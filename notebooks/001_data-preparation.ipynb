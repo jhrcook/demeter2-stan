{
 "cells": [
  {
   "cell_type": "markdown",
   "metadata": {},
   "source": [
    "# Data preparation"
   ]
  },
  {
   "cell_type": "code",
   "execution_count": 1,
   "metadata": {},
   "outputs": [],
   "source": [
    "import numpy as np\n",
    "import pandas as pd\n",
    "from matplotlib import pyplot as plt\n",
    "from pathlib import Path\n",
    "import janitor\n",
    "\n",
    "plt.style.use('seaborn-whitegrid')\n",
    "plt.rcParams['figure.figsize'] = (8.0, 5.0)\n",
    "plt.rcParams['axes.titlesize'] = 18\n",
    "plt.rcParams['axes.labelsize'] = 15\n",
    "\n",
    "data_dir = Path('../data')"
   ]
  },
  {
   "cell_type": "markdown",
   "metadata": {},
   "source": [
    "## shRNA mapping"
   ]
  },
  {
   "cell_type": "code",
   "execution_count": 2,
   "metadata": {},
   "outputs": [
    {
     "data": {
      "text/html": [
       "<div>\n",
       "<style scoped>\n",
       "    .dataframe tbody tr th:only-of-type {\n",
       "        vertical-align: middle;\n",
       "    }\n",
       "\n",
       "    .dataframe tbody tr th {\n",
       "        vertical-align: top;\n",
       "    }\n",
       "\n",
       "    .dataframe thead th {\n",
       "        text-align: right;\n",
       "    }\n",
       "</style>\n",
       "<table border=\"1\" class=\"dataframe\">\n",
       "  <thead>\n",
       "    <tr style=\"text-align: right;\">\n",
       "      <th></th>\n",
       "      <th>barcode_sequence</th>\n",
       "      <th>gene_symbol</th>\n",
       "      <th>gene_id</th>\n",
       "    </tr>\n",
       "  </thead>\n",
       "  <tbody>\n",
       "    <tr>\n",
       "      <th>0</th>\n",
       "      <td>AAAAATGGCATCAACCACCAT</td>\n",
       "      <td>RPS6KA1</td>\n",
       "      <td>6195</td>\n",
       "    </tr>\n",
       "    <tr>\n",
       "      <th>1</th>\n",
       "      <td>AAAACCGTGGACTTCAAGAAG</td>\n",
       "      <td>NO_CURRENT_1</td>\n",
       "      <td>NO_CURRENT_1</td>\n",
       "    </tr>\n",
       "    <tr>\n",
       "      <th>2</th>\n",
       "      <td>AAAAGGATAACCCAGGTGTTT</td>\n",
       "      <td>TSC1</td>\n",
       "      <td>7248</td>\n",
       "    </tr>\n",
       "    <tr>\n",
       "      <th>3</th>\n",
       "      <td>AAAAGTGAGGACAATCCGCAA</td>\n",
       "      <td>RAPGEFL1</td>\n",
       "      <td>51195</td>\n",
       "    </tr>\n",
       "    <tr>\n",
       "      <th>4</th>\n",
       "      <td>AAAATCAGTCATGGTGATTTA</td>\n",
       "      <td>CECR2</td>\n",
       "      <td>27443</td>\n",
       "    </tr>\n",
       "  </tbody>\n",
       "</table>\n",
       "</div>"
      ],
      "text/plain": [
       "        barcode_sequence   gene_symbol       gene_id\n",
       "0  AAAAATGGCATCAACCACCAT       RPS6KA1          6195\n",
       "1  AAAACCGTGGACTTCAAGAAG  NO_CURRENT_1  NO_CURRENT_1\n",
       "2  AAAAGGATAACCCAGGTGTTT          TSC1          7248\n",
       "3  AAAAGTGAGGACAATCCGCAA      RAPGEFL1         51195\n",
       "4  AAAATCAGTCATGGTGATTTA         CECR2         27443"
      ]
     },
     "execution_count": 2,
     "metadata": {},
     "output_type": "execute_result"
    }
   ],
   "source": [
    "shrna_mapping_df = pd.read_csv(data_dir / 'shRNAmapping.csv').clean_names()\n",
    "shrna_mapping_df.head()"
   ]
  },
  {
   "cell_type": "markdown",
   "metadata": {},
   "source": [
    "## Knock-down data"
   ]
  },
  {
   "cell_type": "code",
   "execution_count": 3,
   "metadata": {},
   "outputs": [],
   "source": [
    "def load_achilles_lfc_data(fpath):\n",
    "    df = pd.read_csv(data_dir / fpath) \\\n",
    "        .clean_names() \\\n",
    "        .rename({'unnamed_0': 'barcode_sequence'}, axis=1) \\\n",
    "        .melt(id_vars=['barcode_sequence'], var_name='cell_line', value_name='lfc')\n",
    "    return df"
   ]
  },
  {
   "cell_type": "code",
   "execution_count": 4,
   "metadata": {},
   "outputs": [
    {
     "data": {
      "text/html": [
       "<div>\n",
       "<style scoped>\n",
       "    .dataframe tbody tr th:only-of-type {\n",
       "        vertical-align: middle;\n",
       "    }\n",
       "\n",
       "    .dataframe tbody tr th {\n",
       "        vertical-align: top;\n",
       "    }\n",
       "\n",
       "    .dataframe thead th {\n",
       "        text-align: right;\n",
       "    }\n",
       "</style>\n",
       "<table border=\"1\" class=\"dataframe\">\n",
       "  <thead>\n",
       "    <tr style=\"text-align: right;\">\n",
       "      <th></th>\n",
       "      <th>barcode_sequence</th>\n",
       "      <th>cell_line</th>\n",
       "      <th>lfc</th>\n",
       "    </tr>\n",
       "  </thead>\n",
       "  <tbody>\n",
       "    <tr>\n",
       "      <th>0</th>\n",
       "      <td>ATATCCACCACTTTAACCTTA</td>\n",
       "      <td>ln215_central_nervous_system</td>\n",
       "      <td>-1.896471</td>\n",
       "    </tr>\n",
       "    <tr>\n",
       "      <th>1</th>\n",
       "      <td>GACAACAGACAAATCACCATT</td>\n",
       "      <td>ln215_central_nervous_system</td>\n",
       "      <td>-0.364165</td>\n",
       "    </tr>\n",
       "    <tr>\n",
       "      <th>2</th>\n",
       "      <td>GCCAGTGATTATGAGCTTGAA</td>\n",
       "      <td>ln215_central_nervous_system</td>\n",
       "      <td>-2.744832</td>\n",
       "    </tr>\n",
       "    <tr>\n",
       "      <th>3</th>\n",
       "      <td>GCTAAGTACAGGGCCAAGTTT</td>\n",
       "      <td>ln215_central_nervous_system</td>\n",
       "      <td>1.621193</td>\n",
       "    </tr>\n",
       "    <tr>\n",
       "      <th>4</th>\n",
       "      <td>AGAGCTGTTTGACCGGATAGT</td>\n",
       "      <td>ln215_central_nervous_system</td>\n",
       "      <td>-2.154795</td>\n",
       "    </tr>\n",
       "  </tbody>\n",
       "</table>\n",
       "</div>"
      ],
      "text/plain": [
       "        barcode_sequence                     cell_line       lfc\n",
       "0  ATATCCACCACTTTAACCTTA  ln215_central_nervous_system -1.896471\n",
       "1  GACAACAGACAAATCACCATT  ln215_central_nervous_system -0.364165\n",
       "2  GCCAGTGATTATGAGCTTGAA  ln215_central_nervous_system -2.744832\n",
       "3  GCTAAGTACAGGGCCAAGTTT  ln215_central_nervous_system  1.621193\n",
       "4  AGAGCTGTTTGACCGGATAGT  ln215_central_nervous_system -2.154795"
      ]
     },
     "execution_count": 4,
     "metadata": {},
     "output_type": "execute_result"
    }
   ],
   "source": [
    "achilles_55k_batch1_lfc = load_achilles_lfc_data('achilles55kbatch1repcollapsedlfc.csv')\n",
    "achilles_55k_batch1_lfc.head()"
   ]
  },
  {
   "cell_type": "code",
   "execution_count": 5,
   "metadata": {},
   "outputs": [
    {
     "data": {
      "text/html": [
       "<div>\n",
       "<style scoped>\n",
       "    .dataframe tbody tr th:only-of-type {\n",
       "        vertical-align: middle;\n",
       "    }\n",
       "\n",
       "    .dataframe tbody tr th {\n",
       "        vertical-align: top;\n",
       "    }\n",
       "\n",
       "    .dataframe thead th {\n",
       "        text-align: right;\n",
       "    }\n",
       "</style>\n",
       "<table border=\"1\" class=\"dataframe\">\n",
       "  <thead>\n",
       "    <tr style=\"text-align: right;\">\n",
       "      <th></th>\n",
       "      <th>barcode_sequence</th>\n",
       "      <th>cell_line</th>\n",
       "      <th>lfc</th>\n",
       "    </tr>\n",
       "  </thead>\n",
       "  <tbody>\n",
       "    <tr>\n",
       "      <th>0</th>\n",
       "      <td>ATATCCACCACTTTAACCTTA</td>\n",
       "      <td>ov7_ovary</td>\n",
       "      <td>-1.117770</td>\n",
       "    </tr>\n",
       "    <tr>\n",
       "      <th>1</th>\n",
       "      <td>GACAACAGACAAATCACCATT</td>\n",
       "      <td>ov7_ovary</td>\n",
       "      <td>-0.135925</td>\n",
       "    </tr>\n",
       "    <tr>\n",
       "      <th>2</th>\n",
       "      <td>CTAGAAAGAGTGCAGAACAAT</td>\n",
       "      <td>ov7_ovary</td>\n",
       "      <td>-1.932332</td>\n",
       "    </tr>\n",
       "    <tr>\n",
       "      <th>3</th>\n",
       "      <td>GCCAGTGATTATGAGCTTGAA</td>\n",
       "      <td>ov7_ovary</td>\n",
       "      <td>-1.145431</td>\n",
       "    </tr>\n",
       "    <tr>\n",
       "      <th>4</th>\n",
       "      <td>GCTAAGTACAGGGCCAAGTTT</td>\n",
       "      <td>ov7_ovary</td>\n",
       "      <td>0.441416</td>\n",
       "    </tr>\n",
       "  </tbody>\n",
       "</table>\n",
       "</div>"
      ],
      "text/plain": [
       "        barcode_sequence  cell_line       lfc\n",
       "0  ATATCCACCACTTTAACCTTA  ov7_ovary -1.117770\n",
       "1  GACAACAGACAAATCACCATT  ov7_ovary -0.135925\n",
       "2  CTAGAAAGAGTGCAGAACAAT  ov7_ovary -1.932332\n",
       "3  GCCAGTGATTATGAGCTTGAA  ov7_ovary -1.145431\n",
       "4  GCTAAGTACAGGGCCAAGTTT  ov7_ovary  0.441416"
      ]
     },
     "execution_count": 5,
     "metadata": {},
     "output_type": "execute_result"
    }
   ],
   "source": [
    "achilles_55k_batch2_lfc = load_achilles_lfc_data('achilles55kbatch2repcollapsedlfc.csv')\n",
    "achilles_55k_batch2_lfc.head()"
   ]
  },
  {
   "cell_type": "code",
   "execution_count": 6,
   "metadata": {},
   "outputs": [
    {
     "data": {
      "text/html": [
       "<div>\n",
       "<style scoped>\n",
       "    .dataframe tbody tr th:only-of-type {\n",
       "        vertical-align: middle;\n",
       "    }\n",
       "\n",
       "    .dataframe tbody tr th {\n",
       "        vertical-align: top;\n",
       "    }\n",
       "\n",
       "    .dataframe thead th {\n",
       "        text-align: right;\n",
       "    }\n",
       "</style>\n",
       "<table border=\"1\" class=\"dataframe\">\n",
       "  <thead>\n",
       "    <tr style=\"text-align: right;\">\n",
       "      <th></th>\n",
       "      <th>barcode_sequence</th>\n",
       "      <th>cell_line</th>\n",
       "      <th>lfc</th>\n",
       "    </tr>\n",
       "  </thead>\n",
       "  <tbody>\n",
       "    <tr>\n",
       "      <th>0</th>\n",
       "      <td>AAAAATGGCATCAACCACCAT</td>\n",
       "      <td>143b_bone</td>\n",
       "      <td>-0.146756</td>\n",
       "    </tr>\n",
       "    <tr>\n",
       "      <th>1</th>\n",
       "      <td>AAACACATTTGGGATGTTCCT</td>\n",
       "      <td>143b_bone</td>\n",
       "      <td>1.170334</td>\n",
       "    </tr>\n",
       "    <tr>\n",
       "      <th>2</th>\n",
       "      <td>AAAGAAGAAGCTGCAATATCT</td>\n",
       "      <td>143b_bone</td>\n",
       "      <td>1.490805</td>\n",
       "    </tr>\n",
       "    <tr>\n",
       "      <th>3</th>\n",
       "      <td>AAGCGTGCCGTAGACTGTCCA</td>\n",
       "      <td>143b_bone</td>\n",
       "      <td>0.543632</td>\n",
       "    </tr>\n",
       "    <tr>\n",
       "      <th>4</th>\n",
       "      <td>AATCTAAGAGAGCTGCCATCG</td>\n",
       "      <td>143b_bone</td>\n",
       "      <td>0.172294</td>\n",
       "    </tr>\n",
       "  </tbody>\n",
       "</table>\n",
       "</div>"
      ],
      "text/plain": [
       "        barcode_sequence  cell_line       lfc\n",
       "0  AAAAATGGCATCAACCACCAT  143b_bone -0.146756\n",
       "1  AAACACATTTGGGATGTTCCT  143b_bone  1.170334\n",
       "2  AAAGAAGAAGCTGCAATATCT  143b_bone  1.490805\n",
       "3  AAGCGTGCCGTAGACTGTCCA  143b_bone  0.543632\n",
       "4  AATCTAAGAGAGCTGCCATCG  143b_bone  0.172294"
      ]
     },
     "execution_count": 6,
     "metadata": {},
     "output_type": "execute_result"
    }
   ],
   "source": [
    "achilles_98k_lfc = load_achilles_lfc_data('achilles98krepcollapsedlfc.csv')\n",
    "achilles_98k_lfc.head()"
   ]
  },
  {
   "cell_type": "markdown",
   "metadata": {},
   "source": [
    "## Original DEMETER2 results"
   ]
  },
  {
   "cell_type": "code",
   "execution_count": 7,
   "metadata": {},
   "outputs": [],
   "source": [
    "def extract_gene_name(df):\n",
    "    gene_names = [a.split(' ', 1)[0] for a in df['gene']]\n",
    "    df['gene'] = gene_names\n",
    "    return df"
   ]
  },
  {
   "cell_type": "code",
   "execution_count": 8,
   "metadata": {},
   "outputs": [
    {
     "data": {
      "text/html": [
       "<div>\n",
       "<style scoped>\n",
       "    .dataframe tbody tr th:only-of-type {\n",
       "        vertical-align: middle;\n",
       "    }\n",
       "\n",
       "    .dataframe tbody tr th {\n",
       "        vertical-align: top;\n",
       "    }\n",
       "\n",
       "    .dataframe thead th {\n",
       "        text-align: right;\n",
       "    }\n",
       "</style>\n",
       "<table border=\"1\" class=\"dataframe\">\n",
       "  <thead>\n",
       "    <tr style=\"text-align: right;\">\n",
       "      <th></th>\n",
       "      <th>gene</th>\n",
       "      <th>143b_bone</th>\n",
       "      <th>22rv1_prostate</th>\n",
       "      <th>2313287_stomach</th>\n",
       "      <th>697_haematopoietic_and_lymphoid_tissue</th>\n",
       "      <th>769p_kidney</th>\n",
       "      <th>786o_kidney</th>\n",
       "      <th>a1207_central_nervous_system</th>\n",
       "      <th>a172_central_nervous_system</th>\n",
       "      <th>a204_soft_tissue</th>\n",
       "      <th>...</th>\n",
       "      <th>wm1799_skin</th>\n",
       "      <th>wm2664_skin</th>\n",
       "      <th>wm793_skin</th>\n",
       "      <th>wm88_skin</th>\n",
       "      <th>wm983b_skin</th>\n",
       "      <th>yd38_upper_aerodigestive_tract</th>\n",
       "      <th>yd8_upper_aerodigestive_tract</th>\n",
       "      <th>ykg1_central_nervous_system</th>\n",
       "      <th>zr751_breast</th>\n",
       "      <th>zr7530_breast</th>\n",
       "    </tr>\n",
       "  </thead>\n",
       "  <tbody>\n",
       "    <tr>\n",
       "      <th>0</th>\n",
       "      <td>A1BG</td>\n",
       "      <td>0.052466</td>\n",
       "      <td>-0.115242</td>\n",
       "      <td>-0.023172</td>\n",
       "      <td>-0.023337</td>\n",
       "      <td>-0.127913</td>\n",
       "      <td>-0.045175</td>\n",
       "      <td>-0.180962</td>\n",
       "      <td>0.006975</td>\n",
       "      <td>-0.017205</td>\n",
       "      <td>...</td>\n",
       "      <td>-0.116620</td>\n",
       "      <td>-0.348762</td>\n",
       "      <td>0.015806</td>\n",
       "      <td>-0.183945</td>\n",
       "      <td>-0.071312</td>\n",
       "      <td>0.150626</td>\n",
       "      <td>-0.049987</td>\n",
       "      <td>0.011004</td>\n",
       "      <td>-0.149293</td>\n",
       "      <td>-0.167596</td>\n",
       "    </tr>\n",
       "    <tr>\n",
       "      <th>1</th>\n",
       "      <td>NAT2</td>\n",
       "      <td>0.084173</td>\n",
       "      <td>0.000951</td>\n",
       "      <td>-0.154188</td>\n",
       "      <td>-0.079006</td>\n",
       "      <td>-0.162207</td>\n",
       "      <td>-0.172578</td>\n",
       "      <td>-0.264920</td>\n",
       "      <td>-0.174468</td>\n",
       "      <td>-0.249258</td>\n",
       "      <td>...</td>\n",
       "      <td>-0.299439</td>\n",
       "      <td>-0.123712</td>\n",
       "      <td>-0.121711</td>\n",
       "      <td>-0.104603</td>\n",
       "      <td>-0.265162</td>\n",
       "      <td>0.021261</td>\n",
       "      <td>-0.158058</td>\n",
       "      <td>0.058858</td>\n",
       "      <td>-0.144623</td>\n",
       "      <td>0.133460</td>\n",
       "    </tr>\n",
       "    <tr>\n",
       "      <th>2</th>\n",
       "      <td>ADA</td>\n",
       "      <td>0.207020</td>\n",
       "      <td>0.010743</td>\n",
       "      <td>-0.072102</td>\n",
       "      <td>0.045611</td>\n",
       "      <td>-0.002487</td>\n",
       "      <td>0.170009</td>\n",
       "      <td>-0.000351</td>\n",
       "      <td>0.123135</td>\n",
       "      <td>-0.054149</td>\n",
       "      <td>...</td>\n",
       "      <td>0.060647</td>\n",
       "      <td>0.080939</td>\n",
       "      <td>0.331585</td>\n",
       "      <td>0.032316</td>\n",
       "      <td>-0.066345</td>\n",
       "      <td>0.061082</td>\n",
       "      <td>0.126664</td>\n",
       "      <td>0.204871</td>\n",
       "      <td>-0.202153</td>\n",
       "      <td>0.085652</td>\n",
       "    </tr>\n",
       "    <tr>\n",
       "      <th>3</th>\n",
       "      <td>CDH2</td>\n",
       "      <td>0.062192</td>\n",
       "      <td>-0.049809</td>\n",
       "      <td>0.022137</td>\n",
       "      <td>0.061709</td>\n",
       "      <td>-0.063397</td>\n",
       "      <td>0.127787</td>\n",
       "      <td>-0.184580</td>\n",
       "      <td>-0.040643</td>\n",
       "      <td>0.203570</td>\n",
       "      <td>...</td>\n",
       "      <td>-0.071168</td>\n",
       "      <td>0.004119</td>\n",
       "      <td>-0.013560</td>\n",
       "      <td>-0.048310</td>\n",
       "      <td>-0.138371</td>\n",
       "      <td>-0.036057</td>\n",
       "      <td>-0.075598</td>\n",
       "      <td>0.012575</td>\n",
       "      <td>0.044692</td>\n",
       "      <td>-0.055539</td>\n",
       "    </tr>\n",
       "    <tr>\n",
       "      <th>4</th>\n",
       "      <td>AKT3</td>\n",
       "      <td>0.039280</td>\n",
       "      <td>-0.076596</td>\n",
       "      <td>0.136445</td>\n",
       "      <td>0.154167</td>\n",
       "      <td>0.140487</td>\n",
       "      <td>0.243081</td>\n",
       "      <td>-0.143867</td>\n",
       "      <td>-0.026991</td>\n",
       "      <td>-0.192979</td>\n",
       "      <td>...</td>\n",
       "      <td>0.027439</td>\n",
       "      <td>-0.117479</td>\n",
       "      <td>-0.024036</td>\n",
       "      <td>0.119678</td>\n",
       "      <td>0.042359</td>\n",
       "      <td>0.107166</td>\n",
       "      <td>0.159401</td>\n",
       "      <td>0.071568</td>\n",
       "      <td>0.053298</td>\n",
       "      <td>0.021455</td>\n",
       "    </tr>\n",
       "  </tbody>\n",
       "</table>\n",
       "<p>5 rows × 502 columns</p>\n",
       "</div>"
      ],
      "text/plain": [
       "   gene  143b_bone  22rv1_prostate  2313287_stomach  \\\n",
       "0  A1BG   0.052466       -0.115242        -0.023172   \n",
       "1  NAT2   0.084173        0.000951        -0.154188   \n",
       "2   ADA   0.207020        0.010743        -0.072102   \n",
       "3  CDH2   0.062192       -0.049809         0.022137   \n",
       "4  AKT3   0.039280       -0.076596         0.136445   \n",
       "\n",
       "   697_haematopoietic_and_lymphoid_tissue  769p_kidney  786o_kidney  \\\n",
       "0                               -0.023337    -0.127913    -0.045175   \n",
       "1                               -0.079006    -0.162207    -0.172578   \n",
       "2                                0.045611    -0.002487     0.170009   \n",
       "3                                0.061709    -0.063397     0.127787   \n",
       "4                                0.154167     0.140487     0.243081   \n",
       "\n",
       "   a1207_central_nervous_system  a172_central_nervous_system  \\\n",
       "0                     -0.180962                     0.006975   \n",
       "1                     -0.264920                    -0.174468   \n",
       "2                     -0.000351                     0.123135   \n",
       "3                     -0.184580                    -0.040643   \n",
       "4                     -0.143867                    -0.026991   \n",
       "\n",
       "   a204_soft_tissue  ...  wm1799_skin  wm2664_skin  wm793_skin  wm88_skin  \\\n",
       "0         -0.017205  ...    -0.116620    -0.348762    0.015806  -0.183945   \n",
       "1         -0.249258  ...    -0.299439    -0.123712   -0.121711  -0.104603   \n",
       "2         -0.054149  ...     0.060647     0.080939    0.331585   0.032316   \n",
       "3          0.203570  ...    -0.071168     0.004119   -0.013560  -0.048310   \n",
       "4         -0.192979  ...     0.027439    -0.117479   -0.024036   0.119678   \n",
       "\n",
       "   wm983b_skin  yd38_upper_aerodigestive_tract  yd8_upper_aerodigestive_tract  \\\n",
       "0    -0.071312                        0.150626                      -0.049987   \n",
       "1    -0.265162                        0.021261                      -0.158058   \n",
       "2    -0.066345                        0.061082                       0.126664   \n",
       "3    -0.138371                       -0.036057                      -0.075598   \n",
       "4     0.042359                        0.107166                       0.159401   \n",
       "\n",
       "   ykg1_central_nervous_system  zr751_breast  zr7530_breast  \n",
       "0                     0.011004     -0.149293      -0.167596  \n",
       "1                     0.058858     -0.144623       0.133460  \n",
       "2                     0.204871     -0.202153       0.085652  \n",
       "3                     0.012575      0.044692      -0.055539  \n",
       "4                     0.071568      0.053298       0.021455  \n",
       "\n",
       "[5 rows x 502 columns]"
      ]
     },
     "execution_count": 8,
     "metadata": {},
     "output_type": "execute_result"
    }
   ],
   "source": [
    "d2_res_path = Path('../data/D2_Achilles_gene_dep_scores.csv')\n",
    "\n",
    "d2_res_df = pd.read_csv(d2_res_path) \\\n",
    "    .clean_names() \\\n",
    "    .rename({'unnamed_0': 'gene'}, axis=1) \\\n",
    "    .pipe(extract_gene_name)\n",
    "\n",
    "d2_res_df.head()"
   ]
  },
  {
   "cell_type": "code",
   "execution_count": 9,
   "metadata": {},
   "outputs": [
    {
     "data": {
      "image/png": "[encoded data removed]",
      "text/plain": [
       "<Figure size 576x360 with 1 Axes>"
      ]
     },
     "metadata": {},
     "output_type": "display_data"
    }
   ],
   "source": [
    "d2_res_df.mean().plot.kde()\n",
    "plt.xlabel('average cell line score')\n",
    "plt.title('Distribution of D2 scores per cell line')\n",
    "plt.show()"
   ]
  },
  {
   "cell_type": "code",
   "execution_count": 10,
   "metadata": {},
   "outputs": [
    {
     "data": {
      "image/png": "[encoded data removed]",
      "text/plain": [
       "<Figure size 576x360 with 1 Axes>"
      ]
     },
     "metadata": {},
     "output_type": "display_data"
    }
   ],
   "source": [
    "d2_res_df.set_index('gene').mean(axis=1).plot.kde()\n",
    "plt.xlabel('average gene score')\n",
    "plt.title('Distribution of D2 scores per gene')\n",
    "plt.show()"
   ]
  },
  {
   "cell_type": "code",
   "execution_count": 11,
   "metadata": {},
   "outputs": [
    {
     "data": {
      "text/html": [
       "<div>\n",
       "<style scoped>\n",
       "    .dataframe tbody tr th:only-of-type {\n",
       "        vertical-align: middle;\n",
       "    }\n",
       "\n",
       "    .dataframe tbody tr th {\n",
       "        vertical-align: top;\n",
       "    }\n",
       "\n",
       "    .dataframe thead th {\n",
       "        text-align: right;\n",
       "    }\n",
       "</style>\n",
       "<table border=\"1\" class=\"dataframe\">\n",
       "  <thead>\n",
       "    <tr style=\"text-align: right;\">\n",
       "      <th></th>\n",
       "      <th>avg_d2_score</th>\n",
       "    </tr>\n",
       "    <tr>\n",
       "      <th>gene</th>\n",
       "      <th></th>\n",
       "    </tr>\n",
       "  </thead>\n",
       "  <tbody>\n",
       "    <tr>\n",
       "      <th>A1BG</th>\n",
       "      <td>-0.128559</td>\n",
       "    </tr>\n",
       "    <tr>\n",
       "      <th>NAT2</th>\n",
       "      <td>-0.062949</td>\n",
       "    </tr>\n",
       "    <tr>\n",
       "      <th>ADA</th>\n",
       "      <td>0.052180</td>\n",
       "    </tr>\n",
       "    <tr>\n",
       "      <th>CDH2</th>\n",
       "      <td>0.035571</td>\n",
       "    </tr>\n",
       "    <tr>\n",
       "      <th>AKT3</th>\n",
       "      <td>0.073588</td>\n",
       "    </tr>\n",
       "    <tr>\n",
       "      <th>...</th>\n",
       "      <td>...</td>\n",
       "    </tr>\n",
       "    <tr>\n",
       "      <th>PTBP3</th>\n",
       "      <td>-0.656251</td>\n",
       "    </tr>\n",
       "    <tr>\n",
       "      <th>KCNE2</th>\n",
       "      <td>-0.003405</td>\n",
       "    </tr>\n",
       "    <tr>\n",
       "      <th>DGCR2</th>\n",
       "      <td>0.050086</td>\n",
       "    </tr>\n",
       "    <tr>\n",
       "      <th>CASP8AP2</th>\n",
       "      <td>-0.524194</td>\n",
       "    </tr>\n",
       "    <tr>\n",
       "      <th>SCO2</th>\n",
       "      <td>-0.076897</td>\n",
       "    </tr>\n",
       "  </tbody>\n",
       "</table>\n",
       "<p>16755 rows × 1 columns</p>\n",
       "</div>"
      ],
      "text/plain": [
       "          avg_d2_score\n",
       "gene                  \n",
       "A1BG         -0.128559\n",
       "NAT2         -0.062949\n",
       "ADA           0.052180\n",
       "CDH2          0.035571\n",
       "AKT3          0.073588\n",
       "...                ...\n",
       "PTBP3        -0.656251\n",
       "KCNE2        -0.003405\n",
       "DGCR2         0.050086\n",
       "CASP8AP2     -0.524194\n",
       "SCO2         -0.076897\n",
       "\n",
       "[16755 rows x 1 columns]"
      ]
     },
     "execution_count": 11,
     "metadata": {},
     "output_type": "execute_result"
    }
   ],
   "source": [
    "pd.DataFrame(d2_res_df.set_index('gene').mean(axis=1), \n",
    "             columns=['avg_d2_score'])"
   ]
  },
  {
   "cell_type": "markdown",
   "metadata": {},
   "source": [
    "Set of genes where there will be differences across cell lines."
   ]
  },
  {
   "cell_type": "code",
   "execution_count": 12,
   "metadata": {},
   "outputs": [
    {
     "data": {
      "image/png": "[encoded data removed]",
      "text/plain": [
       "<Figure size 576x360 with 1 Axes>"
      ]
     },
     "metadata": {},
     "output_type": "display_data"
    }
   ],
   "source": [
    "specific_test_genes = ['KRAS', 'BRAF', 'EGFR', 'PTK2']\n",
    "\n",
    "d2_res_df[d2_res_df.gene.isin(specific_test_genes)].set_index('gene').T.plot.kde()\n",
    "\n",
    "plt.xlabel('D2 score')\n",
    "plt.ylabel('density')\n",
    "plt.title('D2 scores for select genes')\n",
    "plt.show()"
   ]
  },
  {
   "cell_type": "markdown",
   "metadata": {},
   "source": [
    "A set of random genes."
   ]
  },
  {
   "cell_type": "code",
   "execution_count": 13,
   "metadata": {},
   "outputs": [
    {
     "data": {
      "image/png": "[encoded data removed]",
      "text/plain": [
       "<Figure size 576x360 with 1 Axes>"
      ]
     },
     "metadata": {},
     "output_type": "display_data"
    }
   ],
   "source": [
    "num_rand_genes = 10\n",
    "random_genes = d2_res_df.dropna().sample(n=num_rand_genes, random_state=123)\n",
    "\n",
    "random_genes.set_index('gene').T.plot.kde(legend=None)\n",
    "\n",
    "plt.xlabel('D2 score')\n",
    "plt.ylabel('density')\n",
    "plt.title(f'D2 scores for {num_rand_genes} random genes')\n",
    "plt.show()"
   ]
  },
  {
   "cell_type": "markdown",
   "metadata": {},
   "source": [
    "Final subset of genes to experiment with."
   ]
  },
  {
   "cell_type": "code",
   "execution_count": 14,
   "metadata": {},
   "outputs": [
    {
     "data": {
      "text/plain": [
       "['KRAS',\n",
       " 'BRAF',\n",
       " 'EGFR',\n",
       " 'PTK2',\n",
       " 'RHBDL2',\n",
       " 'ESPL1',\n",
       " 'LOC105379645&KIR2DL2',\n",
       " 'TRIM39',\n",
       " 'SDHB',\n",
       " 'COL8A1',\n",
       " 'COG3',\n",
       " 'GRK5',\n",
       " 'EIF6',\n",
       " 'RC3H2']"
      ]
     },
     "execution_count": 14,
     "metadata": {},
     "output_type": "execute_result"
    }
   ],
   "source": [
    "genes_to_model = specific_test_genes + random_genes.gene.to_list()\n",
    "genes_to_model"
   ]
  },
  {
   "cell_type": "markdown",
   "metadata": {},
   "source": [
    "---\n",
    "\n",
    "## Modeling data"
   ]
  },
  {
   "cell_type": "code",
   "execution_count": 15,
   "metadata": {},
   "outputs": [],
   "source": [
    "model_data_dir = Path('../modeling_data')"
   ]
  },
  {
   "cell_type": "markdown",
   "metadata": {},
   "source": [
    "### shRNA"
   ]
  },
  {
   "cell_type": "code",
   "execution_count": 16,
   "metadata": {},
   "outputs": [
    {
     "data": {
      "text/html": [
       "<div>\n",
       "<style scoped>\n",
       "    .dataframe tbody tr th:only-of-type {\n",
       "        vertical-align: middle;\n",
       "    }\n",
       "\n",
       "    .dataframe tbody tr th {\n",
       "        vertical-align: top;\n",
       "    }\n",
       "\n",
       "    .dataframe thead th {\n",
       "        text-align: right;\n",
       "    }\n",
       "</style>\n",
       "<table border=\"1\" class=\"dataframe\">\n",
       "  <thead>\n",
       "    <tr style=\"text-align: right;\">\n",
       "      <th></th>\n",
       "      <th>barcode_sequence</th>\n",
       "      <th>gene_symbol</th>\n",
       "    </tr>\n",
       "  </thead>\n",
       "  <tbody>\n",
       "    <tr>\n",
       "      <th>0</th>\n",
       "      <td>ACAAATCCATTGAGCCTTATT</td>\n",
       "      <td>SDHB</td>\n",
       "    </tr>\n",
       "    <tr>\n",
       "      <th>1</th>\n",
       "      <td>ACAGAAGAAATTCTGGCAGAT</td>\n",
       "      <td>EIF6</td>\n",
       "    </tr>\n",
       "    <tr>\n",
       "      <th>2</th>\n",
       "      <td>ACCTCAATAAGGTCTCAAAAT</td>\n",
       "      <td>SDHB</td>\n",
       "    </tr>\n",
       "    <tr>\n",
       "      <th>3</th>\n",
       "      <td>ACGAGATGATAGAAACAGAAT</td>\n",
       "      <td>GRK5</td>\n",
       "    </tr>\n",
       "    <tr>\n",
       "      <th>4</th>\n",
       "      <td>ACTGATGTGTGTTAATTATGA</td>\n",
       "      <td>BRAF</td>\n",
       "    </tr>\n",
       "  </tbody>\n",
       "</table>\n",
       "</div>"
      ],
      "text/plain": [
       "        barcode_sequence gene_symbol\n",
       "0  ACAAATCCATTGAGCCTTATT        SDHB\n",
       "1  ACAGAAGAAATTCTGGCAGAT        EIF6\n",
       "2  ACCTCAATAAGGTCTCAAAAT        SDHB\n",
       "3  ACGAGATGATAGAAACAGAAT        GRK5\n",
       "4  ACTGATGTGTGTTAATTATGA        BRAF"
      ]
     },
     "execution_count": 16,
     "metadata": {},
     "output_type": "execute_result"
    }
   ],
   "source": [
    "model_shrna_mapping = shrna_mapping_df[shrna_mapping_df.gene_symbol.isin(genes_to_model)]\n",
    "model_shrna_mapping = model_shrna_mapping.reset_index(drop=True).drop('gene_id', axis=1)\n",
    "model_shrna_mapping.head()"
   ]
  },
  {
   "cell_type": "code",
   "execution_count": 17,
   "metadata": {},
   "outputs": [],
   "source": [
    "model_shrna_mapping.to_csv(model_data_dir / \"shRNA_mapping.csv\")"
   ]
  },
  {
   "cell_type": "markdown",
   "metadata": {},
   "source": [
    "### Log-fold-change data"
   ]
  },
  {
   "cell_type": "code",
   "execution_count": 18,
   "metadata": {},
   "outputs": [
    {
     "data": {
      "text/html": [
       "<div>\n",
       "<style scoped>\n",
       "    .dataframe tbody tr th:only-of-type {\n",
       "        vertical-align: middle;\n",
       "    }\n",
       "\n",
       "    .dataframe tbody tr th {\n",
       "        vertical-align: top;\n",
       "    }\n",
       "\n",
       "    .dataframe thead th {\n",
       "        text-align: right;\n",
       "    }\n",
       "</style>\n",
       "<table border=\"1\" class=\"dataframe\">\n",
       "  <thead>\n",
       "    <tr style=\"text-align: right;\">\n",
       "      <th></th>\n",
       "      <th>barcode_sequence</th>\n",
       "      <th>cell_line</th>\n",
       "      <th>lfc</th>\n",
       "      <th>batch</th>\n",
       "    </tr>\n",
       "  </thead>\n",
       "  <tbody>\n",
       "    <tr>\n",
       "      <th>0</th>\n",
       "      <td>CCAACCTCAATAAGGTCTCAA</td>\n",
       "      <td>ln215_central_nervous_system</td>\n",
       "      <td>0.898372</td>\n",
       "      <td>1</td>\n",
       "    </tr>\n",
       "    <tr>\n",
       "      <th>1</th>\n",
       "      <td>CGCAAGTGTAAGAAGTGCGAA</td>\n",
       "      <td>ln215_central_nervous_system</td>\n",
       "      <td>-2.754383</td>\n",
       "      <td>1</td>\n",
       "    </tr>\n",
       "    <tr>\n",
       "      <th>2</th>\n",
       "      <td>GCTCTCTATAGAAGGTTCTTT</td>\n",
       "      <td>ln215_central_nervous_system</td>\n",
       "      <td>0.589738</td>\n",
       "      <td>1</td>\n",
       "    </tr>\n",
       "    <tr>\n",
       "      <th>3</th>\n",
       "      <td>GCTGAGAATGTGGAATACCTA</td>\n",
       "      <td>ln215_central_nervous_system</td>\n",
       "      <td>-1.127432</td>\n",
       "      <td>1</td>\n",
       "    </tr>\n",
       "    <tr>\n",
       "      <th>4</th>\n",
       "      <td>AGAGAACTTCTACAGTGTGTT</td>\n",
       "      <td>ln215_central_nervous_system</td>\n",
       "      <td>-1.820344</td>\n",
       "      <td>1</td>\n",
       "    </tr>\n",
       "  </tbody>\n",
       "</table>\n",
       "</div>"
      ],
      "text/plain": [
       "        barcode_sequence                     cell_line       lfc  batch\n",
       "0  CCAACCTCAATAAGGTCTCAA  ln215_central_nervous_system  0.898372      1\n",
       "1  CGCAAGTGTAAGAAGTGCGAA  ln215_central_nervous_system -2.754383      1\n",
       "2  GCTCTCTATAGAAGGTTCTTT  ln215_central_nervous_system  0.589738      1\n",
       "3  GCTGAGAATGTGGAATACCTA  ln215_central_nervous_system -1.127432      1\n",
       "4  AGAGAACTTCTACAGTGTGTT  ln215_central_nervous_system -1.820344      1"
      ]
     },
     "execution_count": 18,
     "metadata": {},
     "output_type": "execute_result"
    }
   ],
   "source": [
    "achilles_55k_batch1_lfc['batch'] = 1\n",
    "achilles_55k_batch2_lfc['batch'] = 2\n",
    "achilles_98k_lfc['batch'] = 3\n",
    "\n",
    "def filter_df_barcodes(df):\n",
    "    new_df = df[df.barcode_sequence.isin(model_shrna_mapping.barcode_sequence)]\n",
    "    return new_df\n",
    "\n",
    "lfc_data = pd.concat(\n",
    "    [filter_df_barcodes(achilles_55k_batch1_lfc),\n",
    "     filter_df_barcodes(achilles_55k_batch2_lfc),\n",
    "     filter_df_barcodes(achilles_98k_lfc)],\n",
    "    ignore_index=True\n",
    ")\n",
    "\n",
    "lfc_data.head()"
   ]
  },
  {
   "cell_type": "code",
   "execution_count": 19,
   "metadata": {},
   "outputs": [
    {
     "data": {
      "text/plain": [
       "(45703, 4)"
      ]
     },
     "execution_count": 19,
     "metadata": {},
     "output_type": "execute_result"
    }
   ],
   "source": [
    "lfc_data.shape"
   ]
  },
  {
   "cell_type": "code",
   "execution_count": 20,
   "metadata": {},
   "outputs": [
    {
     "data": {
      "text/html": [
       "<div>\n",
       "<style scoped>\n",
       "    .dataframe tbody tr th:only-of-type {\n",
       "        vertical-align: middle;\n",
       "    }\n",
       "\n",
       "    .dataframe tbody tr th {\n",
       "        vertical-align: top;\n",
       "    }\n",
       "\n",
       "    .dataframe thead th {\n",
       "        text-align: right;\n",
       "    }\n",
       "</style>\n",
       "<table border=\"1\" class=\"dataframe\">\n",
       "  <thead>\n",
       "    <tr style=\"text-align: right;\">\n",
       "      <th></th>\n",
       "      <th>barcode_sequence</th>\n",
       "      <th>cell_line</th>\n",
       "      <th>lfc</th>\n",
       "      <th>batch</th>\n",
       "      <th>gene_symbol</th>\n",
       "    </tr>\n",
       "  </thead>\n",
       "  <tbody>\n",
       "    <tr>\n",
       "      <th>0</th>\n",
       "      <td>ACAGAAGAAATTCTGGCAGAT</td>\n",
       "      <td>ln215_central_nervous_system</td>\n",
       "      <td>1.966515</td>\n",
       "      <td>1</td>\n",
       "      <td>EIF6</td>\n",
       "    </tr>\n",
       "    <tr>\n",
       "      <th>1</th>\n",
       "      <td>ACAGAAGAAATTCTGGCAGAT</td>\n",
       "      <td>ln382_central_nervous_system</td>\n",
       "      <td>1.289606</td>\n",
       "      <td>1</td>\n",
       "      <td>EIF6</td>\n",
       "    </tr>\n",
       "    <tr>\n",
       "      <th>2</th>\n",
       "      <td>ACAGAAGAAATTCTGGCAGAT</td>\n",
       "      <td>efo21_ovary</td>\n",
       "      <td>0.625725</td>\n",
       "      <td>1</td>\n",
       "      <td>EIF6</td>\n",
       "    </tr>\n",
       "    <tr>\n",
       "      <th>3</th>\n",
       "      <td>ACAGAAGAAATTCTGGCAGAT</td>\n",
       "      <td>jhesoad1_oesophagus</td>\n",
       "      <td>1.392272</td>\n",
       "      <td>1</td>\n",
       "      <td>EIF6</td>\n",
       "    </tr>\n",
       "    <tr>\n",
       "      <th>4</th>\n",
       "      <td>ACAGAAGAAATTCTGGCAGAT</td>\n",
       "      <td>km12_large_intestine</td>\n",
       "      <td>0.820838</td>\n",
       "      <td>1</td>\n",
       "      <td>EIF6</td>\n",
       "    </tr>\n",
       "  </tbody>\n",
       "</table>\n",
       "</div>"
      ],
      "text/plain": [
       "        barcode_sequence                     cell_line       lfc  batch  \\\n",
       "0  ACAGAAGAAATTCTGGCAGAT  ln215_central_nervous_system  1.966515      1   \n",
       "1  ACAGAAGAAATTCTGGCAGAT  ln382_central_nervous_system  1.289606      1   \n",
       "2  ACAGAAGAAATTCTGGCAGAT                   efo21_ovary  0.625725      1   \n",
       "3  ACAGAAGAAATTCTGGCAGAT           jhesoad1_oesophagus  1.392272      1   \n",
       "4  ACAGAAGAAATTCTGGCAGAT          km12_large_intestine  0.820838      1   \n",
       "\n",
       "  gene_symbol  \n",
       "0        EIF6  \n",
       "1        EIF6  \n",
       "2        EIF6  \n",
       "3        EIF6  \n",
       "4        EIF6  "
      ]
     },
     "execution_count": 20,
     "metadata": {},
     "output_type": "execute_result"
    }
   ],
   "source": [
    "modeling_data = lfc_data \\\n",
    "    .set_index('barcode_sequence') \\\n",
    "    .join(model_shrna_mapping.set_index('barcode_sequence'), how='inner') \\\n",
    "    .reset_index()\n",
    "\n",
    "modeling_data.head()"
   ]
  },
  {
   "cell_type": "code",
   "execution_count": 21,
   "metadata": {},
   "outputs": [],
   "source": [
    "modeling_data.to_csv(model_data_dir / 'subset_modeling_data.csv')"
   ]
  }
 ],
 "metadata": {
  "kernelspec": {
   "display_name": "Python 3",
   "language": "python",
   "name": "python3"
  },
  "language_info": {
   "codemirror_mode": {
    "name": "ipython",
    "version": 3
   },
   "file_extension": ".py",
   "mimetype": "text/x-python",
   "name": "python",
   "nbconvert_exporter": "python",
   "pygments_lexer": "ipython3",
   "version": "3.7.4"
  }
 },
 "nbformat": 4,
 "nbformat_minor": 4
}
